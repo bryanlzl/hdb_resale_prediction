{
 "cells": [
  {
   "cell_type": "code",
   "execution_count": 2,
   "id": "962eb1db-70d6-4918-85b0-b23054d1ad5a",
   "metadata": {},
   "outputs": [],
   "source": [
    "import os\n",
    "import pandas as pd\n",
    "import numpy as np"
   ]
  },
  {
   "cell_type": "code",
   "execution_count": 39,
   "id": "e6183ef1-9464-4792-b9c4-c58d6b772c93",
   "metadata": {},
   "outputs": [
    {
     "data": {
      "text/html": [
       "<div>\n",
       "<style scoped>\n",
       "    .dataframe tbody tr th:only-of-type {\n",
       "        vertical-align: middle;\n",
       "    }\n",
       "\n",
       "    .dataframe tbody tr th {\n",
       "        vertical-align: top;\n",
       "    }\n",
       "\n",
       "    .dataframe thead th {\n",
       "        text-align: right;\n",
       "    }\n",
       "</style>\n",
       "<table border=\"1\" class=\"dataframe\">\n",
       "  <thead>\n",
       "    <tr style=\"text-align: right;\">\n",
       "      <th></th>\n",
       "      <th>Mall Name</th>\n",
       "      <th>LATITUDE</th>\n",
       "      <th>LONGITUDE</th>\n",
       "    </tr>\n",
       "  </thead>\n",
       "  <tbody>\n",
       "    <tr>\n",
       "      <th>0</th>\n",
       "      <td>100 AM</td>\n",
       "      <td>1.274588</td>\n",
       "      <td>103.843471</td>\n",
       "    </tr>\n",
       "    <tr>\n",
       "      <th>1</th>\n",
       "      <td>313@Somerset</td>\n",
       "      <td>1.301014</td>\n",
       "      <td>103.838361</td>\n",
       "    </tr>\n",
       "    <tr>\n",
       "      <th>2</th>\n",
       "      <td>Aperia</td>\n",
       "      <td>1.310474</td>\n",
       "      <td>103.864313</td>\n",
       "    </tr>\n",
       "    <tr>\n",
       "      <th>3</th>\n",
       "      <td>Balestier Hill Shopping Centre</td>\n",
       "      <td>1.325596</td>\n",
       "      <td>103.842572</td>\n",
       "    </tr>\n",
       "    <tr>\n",
       "      <th>4</th>\n",
       "      <td>Bugis Cube</td>\n",
       "      <td>1.298141</td>\n",
       "      <td>103.855635</td>\n",
       "    </tr>\n",
       "    <tr>\n",
       "      <th>...</th>\n",
       "      <td>...</td>\n",
       "      <td>...</td>\n",
       "      <td>...</td>\n",
       "    </tr>\n",
       "    <tr>\n",
       "      <th>150</th>\n",
       "      <td>Gek Poh Shopping Centre</td>\n",
       "      <td>1.348742</td>\n",
       "      <td>103.697740</td>\n",
       "    </tr>\n",
       "    <tr>\n",
       "      <th>151</th>\n",
       "      <td>Rochester Mall</td>\n",
       "      <td>1.305408</td>\n",
       "      <td>103.788447</td>\n",
       "    </tr>\n",
       "    <tr>\n",
       "      <th>152</th>\n",
       "      <td>Taman Jurong Shopping Centre</td>\n",
       "      <td>1.334845</td>\n",
       "      <td>103.720462</td>\n",
       "    </tr>\n",
       "    <tr>\n",
       "      <th>153</th>\n",
       "      <td>West Coast Plaza</td>\n",
       "      <td>1.303586</td>\n",
       "      <td>103.766104</td>\n",
       "    </tr>\n",
       "    <tr>\n",
       "      <th>154</th>\n",
       "      <td>Queensway Shopping Centre</td>\n",
       "      <td>1.287618</td>\n",
       "      <td>103.803391</td>\n",
       "    </tr>\n",
       "  </tbody>\n",
       "</table>\n",
       "<p>155 rows × 3 columns</p>\n",
       "</div>"
      ],
      "text/plain": [
       "                          Mall Name  LATITUDE   LONGITUDE\n",
       "0                            100 AM  1.274588  103.843471\n",
       "1                      313@Somerset  1.301014  103.838361\n",
       "2                            Aperia  1.310474  103.864313\n",
       "3    Balestier Hill Shopping Centre  1.325596  103.842572\n",
       "4                        Bugis Cube  1.298141  103.855635\n",
       "..                              ...       ...         ...\n",
       "150         Gek Poh Shopping Centre  1.348742  103.697740\n",
       "151                  Rochester Mall  1.305408  103.788447\n",
       "152    Taman Jurong Shopping Centre  1.334845  103.720462\n",
       "153                West Coast Plaza  1.303586  103.766104\n",
       "154       Queensway Shopping Centre  1.287618  103.803391\n",
       "\n",
       "[155 rows x 3 columns]"
      ]
     },
     "execution_count": 39,
     "metadata": {},
     "output_type": "execute_result"
    }
   ],
   "source": [
    "shopping_locations = pd.read_csv('shopping_mall_coordinates.csv')\n",
    "shopping_locations"
   ]
  },
  {
   "cell_type": "code",
   "execution_count": 41,
   "id": "ecf5f879-c4b1-4f4c-919d-caddb35a2d05",
   "metadata": {},
   "outputs": [],
   "source": [
    "\n",
    "shopping_locations = shopping_locations.rename(columns={'LATITUDE':'lat', 'LONGITUDE':'lng'}).reset_index(drop = True)\n",
    "\n",
    "shopping_locations.to_csv('shopping_mall_coordinates.csv')"
   ]
  },
  {
   "cell_type": "code",
   "execution_count": null,
   "id": "2b016bfe-da23-4272-ab1c-7950fde2079f",
   "metadata": {},
   "outputs": [],
   "source": [
    "'''\n",
    "shopping_locations = pd.read_csv('sg_zipcode_mapper_utf.csv', index_col = 0)\n",
    "shopping_locations = shopping_locations[shopping_locations['searchval'].str.contains('SHOPPING | MALL')]\n",
    "shopping_locations.drop(columns=['searchval','block','street_name','address','postal'], inplace=True)\n",
    "shopping_locations = shopping_locations.rename(columns={'postal.1':'postal'}).reset_index(drop = True)\n",
    "'''"
   ]
  }
 ],
 "metadata": {
  "kernelspec": {
   "display_name": "Python 3 (ipykernel)",
   "language": "python",
   "name": "python3"
  },
  "language_info": {
   "codemirror_mode": {
    "name": "ipython",
    "version": 3
   },
   "file_extension": ".py",
   "mimetype": "text/x-python",
   "name": "python",
   "nbconvert_exporter": "python",
   "pygments_lexer": "ipython3",
   "version": "3.11.7"
  }
 },
 "nbformat": 4,
 "nbformat_minor": 5
}
